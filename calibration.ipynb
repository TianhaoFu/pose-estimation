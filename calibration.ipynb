{
 "cells": [
  {
   "cell_type": "code",
   "execution_count": 13,
   "metadata": {},
   "outputs": [
    {
     "ename": "ImportError",
     "evalue": "No module named 'kpl'",
     "output_type": "error",
     "traceback": [
      "\u001b[1;31m---------------------------------------------------------------------------\u001b[0m",
      "\u001b[1;31mImportError\u001b[0m                               Traceback (most recent call last)",
      "\u001b[1;32m<ipython-input-13-ceb6103c0fe8>\u001b[0m in \u001b[0;36m<module>\u001b[1;34m()\u001b[0m\n\u001b[0;32m      1\u001b[0m \u001b[1;32mimport\u001b[0m \u001b[0mcv2\u001b[0m\u001b[1;33m\u001b[0m\u001b[0m\n\u001b[1;32m----> 2\u001b[1;33m \u001b[1;32mimport\u001b[0m \u001b[0mkpl\u001b[0m\u001b[1;33m\u001b[0m\u001b[0m\n\u001b[0m",
      "\u001b[1;31mImportError\u001b[0m: No module named 'kpl'"
     ]
    }
   ],
   "source": [
    "import cv2\n",
    "import kpl"
   ]
  },
  {
   "cell_type": "code",
   "execution_count": 2,
   "metadata": {},
   "outputs": [],
   "source": [
    "# 单应性估计"
   ]
  },
  {
   "cell_type": "code",
   "execution_count": null,
   "metadata": {},
   "outputs": [],
   "source": []
  },
  {
   "cell_type": "code",
   "execution_count": null,
   "metadata": {},
   "outputs": [],
   "source": []
  },
  {
   "cell_type": "markdown",
   "metadata": {},
   "source": [
    "### 0.Read in an image file, errors out if we can't find the file"
   ]
  },
  {
   "cell_type": "code",
   "execution_count": 22,
   "metadata": {},
   "outputs": [],
   "source": [
    "def readImage(filename):\n",
    "    img = cv2.imread(filename, 0)\n",
    "    if img is None:\n",
    "        print('Invalid image:' + filename)\n",
    "        return None\n",
    "    else:\n",
    "        print('Image successfully read...')\n",
    "        return img\n"
   ]
  },
  {
   "cell_type": "markdown",
   "metadata": {},
   "source": [
    "### 1.Runs sift algorithm to find features/被文本检测的点替代"
   ]
  },
  {
   "cell_type": "code",
   "execution_count": 23,
   "metadata": {},
   "outputs": [],
   "source": [
    "def findFeatures(img):\n",
    "    print(\"Finding Features...\")\n",
    "    sift = cv2.SIFT()\n",
    "    keypoints, descriptors = sift.detectAndCompute(img, None)\n",
    "\n",
    "    img = cv2.drawKeypoints(img, keypoints)\n",
    "    cv2.imwrite('sift_keypoints.png', img)\n",
    "\n",
    "    return keypoints, descriptors"
   ]
  },
  {
   "cell_type": "markdown",
   "metadata": {},
   "source": [
    "### 2.Matches features given a list of keypoints, descriptors, and images / /被文本检测的点替代"
   ]
  },
  {
   "cell_type": "code",
   "execution_count": 24,
   "metadata": {},
   "outputs": [],
   "source": [
    "def matchFeatures(kp1, kp2, desc1, desc2, img1, img2):\n",
    "    print(\"Matching Features...\")\n",
    "    matcher = cv2.BFMatcher(cv2.NORM_L2, True)\n",
    "    matches = matcher.match(desc1, desc2)\n",
    "    matchImg = drawMatches(img1,kp1,img2,kp2,matches)\n",
    "    cv2.imwrite('Matches.png', matchImg)\n",
    "    return matches"
   ]
  },
  {
   "cell_type": "markdown",
   "metadata": {},
   "source": [
    "### 3.Computers a homography from 4-correspondences /"
   ]
  },
  {
   "cell_type": "code",
   "execution_count": 25,
   "metadata": {},
   "outputs": [],
   "source": [
    "def calculateHomography(correspondences):\n",
    "    #loop through correspondences and create assemble matrix\n",
    "    aList = []\n",
    "    for corr in correspondences:\n",
    "        p1 = np.matrix([corr.item(0), corr.item(1), 1])\n",
    "        p2 = np.matrix([corr.item(2), corr.item(3), 1])\n",
    "\n",
    "        a2 = [0, 0, 0, -p2.item(2) * p1.item(0), -p2.item(2) * p1.item(1), -p2.item(2) * p1.item(2),\n",
    "              p2.item(1) * p1.item(0), p2.item(1) * p1.item(1), p2.item(1) * p1.item(2)]\n",
    "        a1 = [-p2.item(2) * p1.item(0), -p2.item(2) * p1.item(1), -p2.item(2) * p1.item(2), 0, 0, 0,\n",
    "              p2.item(0) * p1.item(0), p2.item(0) * p1.item(1), p2.item(0) * p1.item(2)]\n",
    "        aList.append(a1)\n",
    "        aList.append(a2)\n",
    "\n",
    "    matrixA = np.matrix(aList)\n",
    "\n",
    "    #svd composition\n",
    "    u, s, v = np.linalg.svd(matrixA)\n",
    "\n",
    "    #reshape the min singular value into a 3 by 3 matrix\n",
    "    h = np.reshape(v[8], (3, 3))\n",
    "\n",
    "    #normalize and now we have h\n",
    "    h = (1/h.item(8)) * h\n",
    "    return h\n"
   ]
  },
  {
   "cell_type": "markdown",
   "metadata": {},
   "source": [
    "### 4.Calculate the geometric distance between estimated points and original points"
   ]
  },
  {
   "cell_type": "code",
   "execution_count": 26,
   "metadata": {},
   "outputs": [],
   "source": [
    "def geometricDistance(correspondence, h):\n",
    "\n",
    "    p1 = np.transpose(np.matrix([correspondence[0].item(0), correspondence[0].item(1), 1]))\n",
    "    estimatep2 = np.dot(h, p1)\n",
    "    estimatep2 = (1/estimatep2.item(2))*estimatep2\n",
    "\n",
    "    p2 = np.transpose(np.matrix([correspondence[0].item(2), correspondence[0].item(3), 1]))\n",
    "    error = p2 - estimatep2\n",
    "    return np.linalg.norm(error)\n"
   ]
  },
  {
   "cell_type": "markdown",
   "metadata": {},
   "source": [
    "### 5.Runs through ransac algorithm, creating homographies from random correspondences"
   ]
  },
  {
   "cell_type": "code",
   "execution_count": 27,
   "metadata": {},
   "outputs": [],
   "source": [
    "def ransac(corr, thresh):\n",
    "    maxInliers = []\n",
    "    finalH = None\n",
    "    for i in range(1000):\n",
    "        #find 4 random points to calculate a homography\n",
    "        corr1 = corr[random.randrange(0, len(corr))]\n",
    "        corr2 = corr[random.randrange(0, len(corr))]\n",
    "        randomFour = np.vstack((corr1, corr2))\n",
    "        corr3 = corr[random.randrange(0, len(corr))]\n",
    "        randomFour = np.vstack((randomFour, corr3))\n",
    "        corr4 = corr[random.randrange(0, len(corr))]\n",
    "        randomFour = np.vstack((randomFour, corr4))\n",
    "\n",
    "        #call the homography function on those points\n",
    "        h = calculateHomography(randomFour)\n",
    "        inliers = []\n",
    "\n",
    "        for i in range(len(corr)):\n",
    "            d = geometricDistance(corr[i], h)\n",
    "            if d < 5:\n",
    "                inliers.append(corr[i])\n",
    "\n",
    "        if len(inliers) > len(maxInliers):\n",
    "            maxInliers = inliers\n",
    "            finalH = h\n",
    "        print (\"Corr size: \", len(corr), \" NumInliers: \", len(inliers), \"Max inliers: \", len(maxInliers))\n",
    "\n",
    "        if len(maxInliers) > (len(corr)*thresh):\n",
    "            break\n",
    "    return finalH, maxInliers\n"
   ]
  },
  {
   "cell_type": "code",
   "execution_count": null,
   "metadata": {},
   "outputs": [],
   "source": []
  },
  {
   "cell_type": "markdown",
   "metadata": {},
   "source": [
    "### 6. estimate Homography matrix "
   ]
  },
  {
   "cell_type": "code",
   "execution_count": 31,
   "metadata": {},
   "outputs": [
    {
     "ename": "SyntaxError",
     "evalue": "(unicode error) 'unicodeescape' codec can't decode bytes in position 2-3: truncated \\UXXXXXXXX escape (<ipython-input-31-9ac905f778b4>, line 6)",
     "output_type": "error",
     "traceback": [
      "\u001b[1;36m  File \u001b[1;32m\"<ipython-input-31-9ac905f778b4>\"\u001b[1;36m, line \u001b[1;32m6\u001b[0m\n\u001b[1;33m    img_name = [\"C:\\Users\\Tianh\\Desktop\\毕设\\2-homography\\pic1.jpg\", \"C:\\Users\\Tianh\\Desktop\\毕设\\2-homography\\pic2.jpg\"]\u001b[0m\n\u001b[1;37m               ^\u001b[0m\n\u001b[1;31mSyntaxError\u001b[0m\u001b[1;31m:\u001b[0m (unicode error) 'unicodeescape' codec can't decode bytes in position 2-3: truncated \\UXXXXXXXX escape\n"
     ]
    }
   ],
   "source": [
    "estimation_thresh = 0.6\n",
    "print (\"Estimation Threshold: \", estimation_thresh)\n",
    "if estimation_thresh is None:\n",
    "    estimation_thresh = 0.60\n",
    "\n",
    "img_name = [\"C:\\Users\\Tianh\\Desktop\\毕设\\2-homography\\pic1.jpg\", \"C:\\Users\\Tianh\\Desktop\\毕设\\2-homography\\pic2.jpg\"]\n",
    "img1name = str(img_name[0])\n",
    "img2name = str(img_name[1])\n",
    "print(\"Image 1 Name: \" + img1name)\n",
    "print(\"Image 2 Name: \" + img2name)\n",
    "\n",
    "#query image\n",
    "img1 = readImage(img_name[0])\n",
    "#train image\n",
    "img2 = readImage(img_name[1])\n",
    "\n",
    "#find features and keypoints\n",
    "correspondenceList = []\n",
    "if img1 is not None and img2 is not None:\n",
    "    kp1, desc1 = findFeatures(img1)\n",
    "    kp2, desc2 = findFeatures(img2)\n",
    "    print (\"Found keypoints in \" + img1name + \": \" + str(len(kp1)))\n",
    "    print (\"Found keypoints in \" + img2name + \": \" + str(len(kp2)))\n",
    "    keypoints = [kp1,kp2]\n",
    "    \n",
    "\n",
    "matches = matchFeatures(kp1, kp2, desc1, desc2, img1, img2)\n",
    "for match in matches:\n",
    "    (x1, y1) = keypoints[0][match.queryIdx].pt\n",
    "    (x2, y2) = keypoints[1][match.trainIdx].pt\n",
    "    correspondenceList.append([x1, y1, x2, y2])\n",
    "\n",
    "corrs = np.matrix(correspondenceList)\n",
    "\n",
    "#run ransac algorithm\n",
    "finalH, inliers = ransac(corrs, estimation_thresh)\n",
    "print (\"Final homography: \", finalH)\n",
    "print (\"Final inliers count: \", len(inliers))\n",
    "\n",
    "matchImg = drawMatches(img1,kp1,img2,kp2,matches,inliers)\n",
    "cv2.imwrite('InlierMatches.png', matchImg)\n",
    "\n",
    "f = open('homography.txt', 'w')\n",
    "f.write(\"Final homography: \\n\" + str(finalH)+\"\\n\")\n",
    "f.write(\"Final inliers count: \" + str(len(inliers)))\n",
    "f.close()"
   ]
  },
  {
   "cell_type": "markdown",
   "metadata": {},
   "source": [
    "### 7.decompose Homography matrix to get camera parameters"
   ]
  },
  {
   "cell_type": "code",
   "execution_count": 29,
   "metadata": {},
   "outputs": [],
   "source": [
    "# 编译C代码\n",
    "#[r,u,k,n] = TransformDecompose(H);"
   ]
  },
  {
   "cell_type": "code",
   "execution_count": null,
   "metadata": {},
   "outputs": [],
   "source": []
  },
  {
   "cell_type": "code",
   "execution_count": null,
   "metadata": {},
   "outputs": [],
   "source": []
  },
  {
   "cell_type": "code",
   "execution_count": null,
   "metadata": {},
   "outputs": [],
   "source": []
  },
  {
   "cell_type": "code",
   "execution_count": null,
   "metadata": {},
   "outputs": [],
   "source": []
  },
  {
   "cell_type": "code",
   "execution_count": null,
   "metadata": {},
   "outputs": [],
   "source": []
  },
  {
   "cell_type": "code",
   "execution_count": null,
   "metadata": {},
   "outputs": [],
   "source": []
  },
  {
   "cell_type": "code",
   "execution_count": 4,
   "metadata": {},
   "outputs": [
    {
     "ename": "AttributeError",
     "evalue": "module 'cv2' has no attribute 'detail_HomographyBasedEstimator'",
     "output_type": "error",
     "traceback": [
      "\u001b[1;31m---------------------------------------------------------------------------\u001b[0m",
      "\u001b[1;31mAttributeError\u001b[0m                            Traceback (most recent call last)",
      "\u001b[1;32m<ipython-input-4-9cfb36a19785>\u001b[0m in \u001b[0;36m<module>\u001b[1;34m()\u001b[0m\n\u001b[1;32m----> 1\u001b[1;33m \u001b[0mH\u001b[0m \u001b[1;33m=\u001b[0m \u001b[0mcv2\u001b[0m\u001b[1;33m.\u001b[0m\u001b[0mdetail_HomographyBasedEstimator\u001b[0m\u001b[1;33m(\u001b[0m\u001b[1;33m)\u001b[0m\u001b[1;33m\u001b[0m\u001b[0m\n\u001b[0m",
      "\u001b[1;31mAttributeError\u001b[0m: module 'cv2' has no attribute 'detail_HomographyBasedEstimator'"
     ]
    }
   ],
   "source": [
    "H = cv2.detail_HomographyBasedEstimator()"
   ]
  },
  {
   "cell_type": "code",
   "execution_count": 7,
   "metadata": {},
   "outputs": [],
   "source": [
    "# 相机标定"
   ]
  },
  {
   "cell_type": "code",
   "execution_count": null,
   "metadata": {},
   "outputs": [],
   "source": []
  },
  {
   "cell_type": "code",
   "execution_count": null,
   "metadata": {},
   "outputs": [],
   "source": [
    "retval, cameraMatrix, distCoeffs, rvecs, tvecs = cv2.calibrateCamera() "
   ]
  }
 ],
 "metadata": {
  "kernelspec": {
   "display_name": "Python [conda env:pytorch]",
   "language": "python",
   "name": "conda-env-pytorch-py"
  },
  "language_info": {
   "codemirror_mode": {
    "name": "ipython",
    "version": 3
   },
   "file_extension": ".py",
   "mimetype": "text/x-python",
   "name": "python",
   "nbconvert_exporter": "python",
   "pygments_lexer": "ipython3",
   "version": "3.5.6"
  }
 },
 "nbformat": 4,
 "nbformat_minor": 2
}
